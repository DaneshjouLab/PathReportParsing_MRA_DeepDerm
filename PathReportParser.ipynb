{
 "cells": [
  {
   "cell_type": "markdown",
   "metadata": {},
   "source": [
    "# Pathology Report Parsing Solution for MRA-DeepDerm Study"
   ]
  },
  {
   "cell_type": "code",
   "execution_count": null,
   "metadata": {},
   "outputs": [],
   "source": [
    "# Import packages\n",
    "import pandas as pd\n",
    "from utils import process_pathology_reports\n",
    "\n",
    "# Load the Excel file into a DataFrame\n",
    "input_file = \"/path/to/the/excel/file\"\n",
    "df = pd.read_excel(input_file, sheet_name=\"Per Lesion\", engine=\"openpyxl\")\n",
    "\n",
    "# Ensure the 'Path Report Text' column exists\n",
    "if \"Path Report Text\" not in df.columns:\n",
    "    processed_df = process_pathology_reports(df)\n",
    "\n",
    "    # Save the processed DataFrame to a new Excel file\n",
    "    output_file = \"Processed_Pathology_Reports.xlsx\"\n",
    "    processed_df.to_excel(output_file, engine=\"openpyxl\", index=False)\n",
    "    print(f\"Processed data saved to {output_file}\")\n",
    "else:\n",
    "    print(\"Error: 'Path Report Text' column not found in the input file.\")"
   ]
  }
 ],
 "metadata": {
  "colab": {
   "provenance": []
  },
  "kernelspec": {
   "display_name": "Python 3",
   "name": "python3"
  },
  "language_info": {
   "name": "python"
  }
 },
 "nbformat": 4,
 "nbformat_minor": 0
}
