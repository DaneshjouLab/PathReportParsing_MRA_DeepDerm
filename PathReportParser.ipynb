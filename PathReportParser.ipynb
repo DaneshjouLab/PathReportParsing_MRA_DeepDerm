{
  "nbformat": 4,
  "nbformat_minor": 0,
  "metadata": {
    "colab": {
      "provenance": []
    },
    "kernelspec": {
      "name": "python3",
      "display_name": "Python 3"
    },
    "language_info": {
      "name": "python"
    }
  },
  "cells": [
    {
      "cell_type": "code",
      "execution_count": null,
      "metadata": {
        "id": "988aV6uUaycs"
      },
      "outputs": [],
      "source": [
        "# Import dependencies\n",
        "import pandas as pd\n",
        "\n",
        "# Load the Excel file into a DataFrame\n",
        "input_file = \"/path/to/the/excel/file\"\n",
        "df = pd.read_excel(input_file, sheet_name=\"Per Lesion\", engine=\"openpyxl\")\n",
        "\n",
        "# Ensure the 'Path Report Text' column exists\n",
        "if \"Path Report Text\" not in df.columns:\n",
        "    print(\"Error: 'Path Report Text' column not found in the input file.\")\n",
        "    return\n",
        "\n",
        "# Process the DataFrame\n",
        "processed_df = process_pathology_reports(df)\n",
        "\n",
        "# Save the processed DataFrame to a new Excel file\n",
        "output_file = \"Processed_Pathology_Reports.xlsx\"\n",
        "processed_df.to_excel(output_file, engine=\"openpyxl\", index=False)\n",
        "print(f\"Processed data saved to {output_file}\")"
      ]
    }
  ]
}